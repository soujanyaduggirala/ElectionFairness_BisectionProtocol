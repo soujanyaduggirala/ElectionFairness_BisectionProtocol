{
 "cells": [
  {
   "cell_type": "code",
   "execution_count": 1,
   "metadata": {
    "colab": {
     "base_uri": "https://localhost:8080/"
    },
    "id": "nTjWGomAJqe1",
    "outputId": "7043c9fa-fe1e-4c63-aaef-127872e9bf66"
   },
   "outputs": [
    {
     "name": "stdout",
     "output_type": "stream",
     "text": [
      "Requirement already satisfied: gurobipy in /Users/souji/opt/anaconda3/lib/python3.8/site-packages (9.1.2)\r\n"
     ]
    }
   ],
   "source": [
    "# imports\n",
    "import pandas as pd\n",
    "import numpy as np\n",
    "!pip install gurobipy  # install gurobipy, if not already installed\n",
    "import gurobipy as grb  # import the installed package\n",
    "from gurobipy import GRB"
   ]
  },
  {
   "cell_type": "code",
   "execution_count": 2,
   "metadata": {
    "colab": {
     "base_uri": "https://localhost:8080/",
     "height": 206
    },
    "id": "uU4ELLsyYN27",
    "outputId": "0631b677-d778-4d9f-e7b4-26ad57a8a04d"
   },
   "outputs": [
    {
     "data": {
      "text/html": [
       "<div>\n",
       "<style scoped>\n",
       "    .dataframe tbody tr th:only-of-type {\n",
       "        vertical-align: middle;\n",
       "    }\n",
       "\n",
       "    .dataframe tbody tr th {\n",
       "        vertical-align: top;\n",
       "    }\n",
       "\n",
       "    .dataframe thead th {\n",
       "        text-align: right;\n",
       "    }\n",
       "</style>\n",
       "<table border=\"1\" class=\"dataframe\">\n",
       "  <thead>\n",
       "    <tr style=\"text-align: right;\">\n",
       "      <th></th>\n",
       "      <th>County</th>\n",
       "      <th>Democratic Votes</th>\n",
       "      <th>Republican Votes</th>\n",
       "      <th>Total Votes</th>\n",
       "      <th>Population</th>\n",
       "    </tr>\n",
       "  </thead>\n",
       "  <tbody>\n",
       "    <tr>\n",
       "      <th>0</th>\n",
       "      <td>Appling</td>\n",
       "      <td>1,784</td>\n",
       "      <td>6,570</td>\n",
       "      <td>8,390</td>\n",
       "      <td>18,428</td>\n",
       "    </tr>\n",
       "    <tr>\n",
       "      <th>1</th>\n",
       "      <td>Atkinson</td>\n",
       "      <td>825</td>\n",
       "      <td>2,300</td>\n",
       "      <td>3,155</td>\n",
       "      <td>8,311</td>\n",
       "    </tr>\n",
       "    <tr>\n",
       "      <th>2</th>\n",
       "      <td>Bacon</td>\n",
       "      <td>625</td>\n",
       "      <td>4,017</td>\n",
       "      <td>4,667</td>\n",
       "      <td>11,140</td>\n",
       "    </tr>\n",
       "    <tr>\n",
       "      <th>3</th>\n",
       "      <td>Baker</td>\n",
       "      <td>652</td>\n",
       "      <td>897</td>\n",
       "      <td>1,555</td>\n",
       "      <td>3,090</td>\n",
       "    </tr>\n",
       "    <tr>\n",
       "      <th>4</th>\n",
       "      <td>Baldwin</td>\n",
       "      <td>9,140</td>\n",
       "      <td>8,903</td>\n",
       "      <td>18,261</td>\n",
       "      <td>45,072</td>\n",
       "    </tr>\n",
       "  </tbody>\n",
       "</table>\n",
       "</div>"
      ],
      "text/plain": [
       "     County Democratic Votes Republican Votes Total Votes Population\n",
       "0   Appling            1,784            6,570       8,390     18,428\n",
       "1  Atkinson              825            2,300       3,155      8,311\n",
       "2     Bacon              625            4,017       4,667     11,140\n",
       "3     Baker              652              897       1,555      3,090\n",
       "4   Baldwin            9,140            8,903      18,261     45,072"
      ]
     },
     "execution_count": 2,
     "metadata": {},
     "output_type": "execute_result"
    }
   ],
   "source": [
    "datafile = 'GeorgiaCountyData2.csv'\n",
    "data = pd.read_csv(datafile)\n",
    "data.head()"
   ]
  },
  {
   "cell_type": "code",
   "execution_count": 3,
   "metadata": {
    "id": "EFMW9DuKYN28"
   },
   "outputs": [],
   "source": [
    "data['Democratic Votes'] = data['Democratic Votes'].str.replace(',', '').astype(float)\n",
    "data['Republican Votes'] = data['Republican Votes'].str.replace(',', '').astype(float)\n",
    "data['Total Votes'] = data['Total Votes'].str.replace(',', '').astype(float)\n",
    "data['Population'] = data['Population'].str.replace(',', '').astype(float)"
   ]
  },
  {
   "cell_type": "markdown",
   "metadata": {
    "id": "V1OIEWs3twMx"
   },
   "source": [
    "The vote-shares are normalized so that the population in each district is exactly 1; for a state with n districts, the vote-shares s1 and s2 for Player 1 and Player 2, respectively, satisfy s1 + s2 = n"
   ]
  },
  {
   "cell_type": "code",
   "execution_count": 4,
   "metadata": {
    "id": "2ErbExYytzVz"
   },
   "outputs": [],
   "source": [
    "# normalize population and vote shares ^ see above block\n",
    "data['Scaled Population'] = np.array(data['Population'])/(np.sum(data['Population'])/14)\n",
    "data['Dem % Votes'] = data['Democratic Votes']/(data['Democratic Votes'] + data['Republican Votes'])\n",
    "data['Dem Seats'] = data['Dem % Votes'] * data['Scaled Population']\n",
    "data['Rep % Votes'] = data['Republican Votes']/(data['Democratic Votes'] + data['Republican Votes'])\n",
    "data['Rep Seats'] = data['Rep % Votes'] * data['Scaled Population']\n",
    "#data"
   ]
  },
  {
   "cell_type": "code",
   "execution_count": 5,
   "metadata": {
    "id": "oOU9UBxVYG2q"
   },
   "outputs": [],
   "source": [
    "datafile2 = 'county_adjacency2010.csv'\n",
    "data2 = pd.read_csv(datafile2)\n",
    "s1 =data2['fipscounty']>=13001\n",
    "s2 = data2['fipscounty']<=13321\n",
    "s3 = s1*s2\n",
    "df2 = pd.DataFrame()\n",
    "df2['countyname'] = np.where(s3,data2['countyname'],0)\n",
    "df2['fipscounty'] = np.where(s3,data2['fipscounty'],0)\n",
    "df2['fipsneighbor'] = np.where(s3,data2['fipsneighbor'],0)\n",
    "df2 = df2.loc[~(df2==0).all(axis=1)]\n",
    "names = []\n",
    "for i in df2['countyname']:\n",
    "  name = i\n",
    "  n = np.char.split([name], sep = \" \")[0][0]\n",
    "  names.append(n)\n",
    "names\n",
    "df2['Name'] = names\n",
    "fipCodes = df2['fipscounty'].unique()\n",
    "GeorgiaNeighbors = []\n",
    "for i in fipCodes:\n",
    "  neighbors = np.where(df2['fipscounty']==i, df2['fipsneighbor'],0)\n",
    "  neighbors = neighbors[neighbors!=0]\n",
    "  GeorgiaNeighbors.append([i,[neighbors]])\n",
    "fipdf = pd.DataFrame()\n",
    "n = np.append(np.unique(names),['Fulton','Fulton','Gwinnett','Gwinnett','Cobb','Cobb', 'DeKalb','DeKalb'])\n",
    "fipdf['Name'] = n\n",
    "fipCodes = np.append(fipCodes,[13121,13121,13135,13135,13067,13067,13087,13087] )\n",
    "fipdf['Fip'] = fipCodes\n",
    "fipdf = fipdf.sort_values(by=['Name'],ignore_index=True)\n",
    "data['fip'] = np.where(data['County']==fipdf['Name'],fipdf['Fip'],0)"
   ]
  },
  {
   "cell_type": "code",
   "execution_count": 6,
   "metadata": {
    "colab": {
     "base_uri": "https://localhost:8080/",
     "height": 505
    },
    "id": "FVynm5xzYN3A",
    "outputId": "0e61d2d1-9b1d-4779-b1e8-a42eaeffc9c6"
   },
   "outputs": [
    {
     "data": {
      "text/html": [
       "<div>\n",
       "<style scoped>\n",
       "    .dataframe tbody tr th:only-of-type {\n",
       "        vertical-align: middle;\n",
       "    }\n",
       "\n",
       "    .dataframe tbody tr th {\n",
       "        vertical-align: top;\n",
       "    }\n",
       "\n",
       "    .dataframe thead th {\n",
       "        text-align: right;\n",
       "    }\n",
       "</style>\n",
       "<table border=\"1\" class=\"dataframe\">\n",
       "  <thead>\n",
       "    <tr style=\"text-align: right;\">\n",
       "      <th></th>\n",
       "      <th>county_id</th>\n",
       "      <th>County</th>\n",
       "      <th>Democratic Votes</th>\n",
       "      <th>Republican Votes</th>\n",
       "      <th>Total Votes</th>\n",
       "      <th>Population</th>\n",
       "      <th>Scaled Population</th>\n",
       "      <th>Dem % Votes</th>\n",
       "      <th>Dem Seats</th>\n",
       "      <th>Rep % Votes</th>\n",
       "      <th>Rep Seats</th>\n",
       "      <th>fip</th>\n",
       "    </tr>\n",
       "  </thead>\n",
       "  <tbody>\n",
       "    <tr>\n",
       "      <th>0</th>\n",
       "      <td>0</td>\n",
       "      <td>Appling</td>\n",
       "      <td>1784.0</td>\n",
       "      <td>6570.0</td>\n",
       "      <td>8390.0</td>\n",
       "      <td>18428.0</td>\n",
       "      <td>0.024532</td>\n",
       "      <td>0.213550</td>\n",
       "      <td>0.005239</td>\n",
       "      <td>0.786450</td>\n",
       "      <td>0.019293</td>\n",
       "      <td>13001</td>\n",
       "    </tr>\n",
       "    <tr>\n",
       "      <th>1</th>\n",
       "      <td>1</td>\n",
       "      <td>Atkinson</td>\n",
       "      <td>825.0</td>\n",
       "      <td>2300.0</td>\n",
       "      <td>3155.0</td>\n",
       "      <td>8311.0</td>\n",
       "      <td>0.011064</td>\n",
       "      <td>0.264000</td>\n",
       "      <td>0.002921</td>\n",
       "      <td>0.736000</td>\n",
       "      <td>0.008143</td>\n",
       "      <td>13003</td>\n",
       "    </tr>\n",
       "    <tr>\n",
       "      <th>2</th>\n",
       "      <td>2</td>\n",
       "      <td>Bacon</td>\n",
       "      <td>625.0</td>\n",
       "      <td>4017.0</td>\n",
       "      <td>4667.0</td>\n",
       "      <td>11140.0</td>\n",
       "      <td>0.014830</td>\n",
       "      <td>0.134640</td>\n",
       "      <td>0.001997</td>\n",
       "      <td>0.865360</td>\n",
       "      <td>0.012833</td>\n",
       "      <td>13005</td>\n",
       "    </tr>\n",
       "    <tr>\n",
       "      <th>3</th>\n",
       "      <td>3</td>\n",
       "      <td>Baker</td>\n",
       "      <td>652.0</td>\n",
       "      <td>897.0</td>\n",
       "      <td>1555.0</td>\n",
       "      <td>3090.0</td>\n",
       "      <td>0.004114</td>\n",
       "      <td>0.420917</td>\n",
       "      <td>0.001731</td>\n",
       "      <td>0.579083</td>\n",
       "      <td>0.002382</td>\n",
       "      <td>13007</td>\n",
       "    </tr>\n",
       "    <tr>\n",
       "      <th>4</th>\n",
       "      <td>4</td>\n",
       "      <td>Baldwin</td>\n",
       "      <td>9140.0</td>\n",
       "      <td>8903.0</td>\n",
       "      <td>18261.0</td>\n",
       "      <td>45072.0</td>\n",
       "      <td>0.060001</td>\n",
       "      <td>0.506568</td>\n",
       "      <td>0.030395</td>\n",
       "      <td>0.493432</td>\n",
       "      <td>0.029607</td>\n",
       "      <td>13009</td>\n",
       "    </tr>\n",
       "    <tr>\n",
       "      <th>...</th>\n",
       "      <td>...</td>\n",
       "      <td>...</td>\n",
       "      <td>...</td>\n",
       "      <td>...</td>\n",
       "      <td>...</td>\n",
       "      <td>...</td>\n",
       "      <td>...</td>\n",
       "      <td>...</td>\n",
       "      <td>...</td>\n",
       "      <td>...</td>\n",
       "      <td>...</td>\n",
       "      <td>...</td>\n",
       "    </tr>\n",
       "    <tr>\n",
       "      <th>162</th>\n",
       "      <td>162</td>\n",
       "      <td>Whitfield</td>\n",
       "      <td>10680.0</td>\n",
       "      <td>25644.0</td>\n",
       "      <td>36766.0</td>\n",
       "      <td>104122.0</td>\n",
       "      <td>0.138610</td>\n",
       "      <td>0.294020</td>\n",
       "      <td>0.040754</td>\n",
       "      <td>0.705980</td>\n",
       "      <td>0.097856</td>\n",
       "      <td>13313</td>\n",
       "    </tr>\n",
       "    <tr>\n",
       "      <th>163</th>\n",
       "      <td>163</td>\n",
       "      <td>Wilcox</td>\n",
       "      <td>861.0</td>\n",
       "      <td>2402.0</td>\n",
       "      <td>3279.0</td>\n",
       "      <td>8701.0</td>\n",
       "      <td>0.011583</td>\n",
       "      <td>0.263868</td>\n",
       "      <td>0.003056</td>\n",
       "      <td>0.736132</td>\n",
       "      <td>0.008527</td>\n",
       "      <td>13315</td>\n",
       "    </tr>\n",
       "    <tr>\n",
       "      <th>164</th>\n",
       "      <td>164</td>\n",
       "      <td>Wilkes</td>\n",
       "      <td>2160.0</td>\n",
       "      <td>2823.0</td>\n",
       "      <td>5031.0</td>\n",
       "      <td>9797.0</td>\n",
       "      <td>0.013042</td>\n",
       "      <td>0.433474</td>\n",
       "      <td>0.005653</td>\n",
       "      <td>0.566526</td>\n",
       "      <td>0.007389</td>\n",
       "      <td>13317</td>\n",
       "    </tr>\n",
       "    <tr>\n",
       "      <th>165</th>\n",
       "      <td>165</td>\n",
       "      <td>Wilkinson</td>\n",
       "      <td>2074.0</td>\n",
       "      <td>2665.0</td>\n",
       "      <td>4770.0</td>\n",
       "      <td>8945.0</td>\n",
       "      <td>0.011908</td>\n",
       "      <td>0.437645</td>\n",
       "      <td>0.005211</td>\n",
       "      <td>0.562355</td>\n",
       "      <td>0.006696</td>\n",
       "      <td>13319</td>\n",
       "    </tr>\n",
       "    <tr>\n",
       "      <th>166</th>\n",
       "      <td>166</td>\n",
       "      <td>Worth</td>\n",
       "      <td>2395.0</td>\n",
       "      <td>6830.0</td>\n",
       "      <td>9285.0</td>\n",
       "      <td>20346.0</td>\n",
       "      <td>0.027085</td>\n",
       "      <td>0.259621</td>\n",
       "      <td>0.007032</td>\n",
       "      <td>0.740379</td>\n",
       "      <td>0.020053</td>\n",
       "      <td>13321</td>\n",
       "    </tr>\n",
       "  </tbody>\n",
       "</table>\n",
       "<p>167 rows × 12 columns</p>\n",
       "</div>"
      ],
      "text/plain": [
       "     county_id     County  Democratic Votes  Republican Votes  Total Votes  \\\n",
       "0            0    Appling            1784.0            6570.0       8390.0   \n",
       "1            1   Atkinson             825.0            2300.0       3155.0   \n",
       "2            2      Bacon             625.0            4017.0       4667.0   \n",
       "3            3      Baker             652.0             897.0       1555.0   \n",
       "4            4    Baldwin            9140.0            8903.0      18261.0   \n",
       "..         ...        ...               ...               ...          ...   \n",
       "162        162  Whitfield           10680.0           25644.0      36766.0   \n",
       "163        163     Wilcox             861.0            2402.0       3279.0   \n",
       "164        164     Wilkes            2160.0            2823.0       5031.0   \n",
       "165        165  Wilkinson            2074.0            2665.0       4770.0   \n",
       "166        166      Worth            2395.0            6830.0       9285.0   \n",
       "\n",
       "     Population  Scaled Population  Dem % Votes  Dem Seats  Rep % Votes  \\\n",
       "0       18428.0           0.024532     0.213550   0.005239     0.786450   \n",
       "1        8311.0           0.011064     0.264000   0.002921     0.736000   \n",
       "2       11140.0           0.014830     0.134640   0.001997     0.865360   \n",
       "3        3090.0           0.004114     0.420917   0.001731     0.579083   \n",
       "4       45072.0           0.060001     0.506568   0.030395     0.493432   \n",
       "..          ...                ...          ...        ...          ...   \n",
       "162    104122.0           0.138610     0.294020   0.040754     0.705980   \n",
       "163      8701.0           0.011583     0.263868   0.003056     0.736132   \n",
       "164      9797.0           0.013042     0.433474   0.005653     0.566526   \n",
       "165      8945.0           0.011908     0.437645   0.005211     0.562355   \n",
       "166     20346.0           0.027085     0.259621   0.007032     0.740379   \n",
       "\n",
       "     Rep Seats    fip  \n",
       "0     0.019293  13001  \n",
       "1     0.008143  13003  \n",
       "2     0.012833  13005  \n",
       "3     0.002382  13007  \n",
       "4     0.029607  13009  \n",
       "..         ...    ...  \n",
       "162   0.097856  13313  \n",
       "163   0.008527  13315  \n",
       "164   0.007389  13317  \n",
       "165   0.006696  13319  \n",
       "166   0.020053  13321  \n",
       "\n",
       "[167 rows x 12 columns]"
      ]
     },
     "execution_count": 6,
     "metadata": {},
     "output_type": "execute_result"
    }
   ],
   "source": [
    "f = np.where(data['County']=='DeKalb',13089,data['fip'])\n",
    "f = np.where(data['County']=='Ben Hill',13017,f)\n",
    "f = np.where(data['County']=='Decatur',13087,f)\n",
    "f = np.where(data['County']=='Jeff Davis',13161,f)\n",
    "data['fip'] = f\n",
    "#fixing those that were missed\n",
    "data = data.reset_index().rename(columns = {'index': 'county_id'})\n",
    "data.head()\n",
    "data"
   ]
  },
  {
   "cell_type": "code",
   "execution_count": 7,
   "metadata": {
    "colab": {
     "base_uri": "https://localhost:8080/",
     "height": 206
    },
    "id": "aAr8Y8tkrWAZ",
    "outputId": "237d00d9-fe9a-4251-be18-c91195adf59c"
   },
   "outputs": [
    {
     "data": {
      "text/html": [
       "<div>\n",
       "<style scoped>\n",
       "    .dataframe tbody tr th:only-of-type {\n",
       "        vertical-align: middle;\n",
       "    }\n",
       "\n",
       "    .dataframe tbody tr th {\n",
       "        vertical-align: top;\n",
       "    }\n",
       "\n",
       "    .dataframe thead th {\n",
       "        text-align: right;\n",
       "    }\n",
       "</style>\n",
       "<table border=\"1\" class=\"dataframe\">\n",
       "  <thead>\n",
       "    <tr style=\"text-align: right;\">\n",
       "      <th></th>\n",
       "      <th>index_i</th>\n",
       "      <th>county_i</th>\n",
       "      <th>index_j</th>\n",
       "      <th>county_j</th>\n",
       "      <th>cij</th>\n",
       "    </tr>\n",
       "  </thead>\n",
       "  <tbody>\n",
       "    <tr>\n",
       "      <th>0</th>\n",
       "      <td>0</td>\n",
       "      <td>Appling</td>\n",
       "      <td>0</td>\n",
       "      <td>Appling</td>\n",
       "      <td>0</td>\n",
       "    </tr>\n",
       "    <tr>\n",
       "      <th>1</th>\n",
       "      <td>0</td>\n",
       "      <td>Appling</td>\n",
       "      <td>1</td>\n",
       "      <td>Atkinson</td>\n",
       "      <td>0</td>\n",
       "    </tr>\n",
       "    <tr>\n",
       "      <th>2</th>\n",
       "      <td>0</td>\n",
       "      <td>Appling</td>\n",
       "      <td>2</td>\n",
       "      <td>Bacon</td>\n",
       "      <td>1</td>\n",
       "    </tr>\n",
       "    <tr>\n",
       "      <th>3</th>\n",
       "      <td>0</td>\n",
       "      <td>Appling</td>\n",
       "      <td>3</td>\n",
       "      <td>Baker</td>\n",
       "      <td>0</td>\n",
       "    </tr>\n",
       "    <tr>\n",
       "      <th>4</th>\n",
       "      <td>0</td>\n",
       "      <td>Appling</td>\n",
       "      <td>4</td>\n",
       "      <td>Baldwin</td>\n",
       "      <td>0</td>\n",
       "    </tr>\n",
       "  </tbody>\n",
       "</table>\n",
       "</div>"
      ],
      "text/plain": [
       "   index_i county_i  index_j  county_j  cij\n",
       "0        0  Appling        0   Appling    0\n",
       "1        0  Appling        1  Atkinson    0\n",
       "2        0  Appling        2     Bacon    1\n",
       "3        0  Appling        3     Baker    0\n",
       "4        0  Appling        4   Baldwin    0"
      ]
     },
     "execution_count": 7,
     "metadata": {},
     "output_type": "execute_result"
    }
   ],
   "source": [
    "# read in locational data\n",
    "cij_df = pd.read_csv('cij.csv').drop(columns = ['Unnamed: 0'])\n",
    "cij_df.head()"
   ]
  },
  {
   "cell_type": "code",
   "execution_count": 8,
   "metadata": {
    "colab": {
     "base_uri": "https://localhost:8080/"
    },
    "id": "BFSpiFnyv0R3",
    "outputId": "95d15b70-731a-48c9-94fd-5eae010806cd"
   },
   "outputs": [
    {
     "data": {
      "text/plain": [
       "array([[0., 0., 1., ..., 0., 0., 0.],\n",
       "       [0., 0., 0., ..., 0., 0., 0.],\n",
       "       [1., 0., 0., ..., 0., 0., 0.],\n",
       "       ...,\n",
       "       [0., 0., 0., ..., 0., 0., 0.],\n",
       "       [0., 0., 0., ..., 0., 0., 0.],\n",
       "       [0., 0., 0., ..., 0., 0., 0.]])"
      ]
     },
     "execution_count": 8,
     "metadata": {},
     "output_type": "execute_result"
    }
   ],
   "source": [
    "cij_matrix = np.zeros((len(fipdf),len(fipdf)))\n",
    "for i in range(len(fipdf)):\n",
    "  for j in range(len(fipdf)):\n",
    "    cij_matrix[i, j] = cij_df[(cij_df.index_i == i) & (cij_df.index_j == j)]['cij'].iloc[0]\n",
    "\n",
    "cij_matrix"
   ]
  },
  {
   "cell_type": "code",
   "execution_count": 9,
   "metadata": {
    "id": "NT1oomCOMI3d"
   },
   "outputs": [],
   "source": [
    "#In the continuous nongeometric setting of the bisection protocol, the vote-share thresholds tm,j\n",
    "#needed to win j of m districts are computed from the recurrence in Lemma 2\n",
    "\n",
    "\n",
    "def lemma2(n,j):\n",
    "  if j ==0:\n",
    "    return 0,0\n",
    "  elif j==1 and n==1:\n",
    "    return 1/2,0\n",
    "  else:\n",
    "    a = int(np.floor(n/2))\n",
    "    b = int(np.ceil(n/2))\n",
    "    Max = np.minimum(j,a)\n",
    "    Min = np.maximum(0,j-b)\n",
    "    K = np.arange(Min,Max+1) \n",
    "    t = 0\n",
    "    T = []\n",
    "    kStar = 0\n",
    "    for k in K:\n",
    "      x = n-lemma2(a,a-k+1)[0] - lemma2(b,b-(j-k)+1)[0]\n",
    "      T.append(x)\n",
    "    if len(T) ==1:\n",
    "      kStar = k\n",
    "      return T[0],kStar\n",
    "    elif len(T)>1:\n",
    "      t = min(T)\n",
    "      kStar = k\n",
    "    return t,kStar "
   ]
  },
  {
   "cell_type": "code",
   "execution_count": 10,
   "metadata": {
    "id": "8-gftq9Jv9yV"
   },
   "outputs": [],
   "source": [
    "def jandkstar (m,vs): #uses lemma2\n",
    "  J = np.arange(1,m+1)\n",
    "  #print(J)\n",
    "  Jval = []\n",
    "  jstar = 0\n",
    "  kstar = 0\n",
    "  mi = 0.0\n",
    "  for j in J:\n",
    "    t = float(lemma2(m,j)[0])\n",
    "    k = (lemma2(m,j)[1])\n",
    "    Jval.append(t)\n",
    "    if t <= vs and t>mi:\n",
    "      mi = t\n",
    "      jstar = j\n",
    "      kstar = k\n",
    "  return jstar,kstar "
   ]
  },
  {
   "cell_type": "code",
   "execution_count": 11,
   "metadata": {
    "id": "UbI-ny1eIfi1"
   },
   "outputs": [],
   "source": [
    "S = []\n",
    "S.append(data['county_id'])\n",
    "S.append(data['Scaled Population'])\n",
    "S.append(data['Dem Seats'])\n",
    "S.append(data['Rep Seats'])"
   ]
  },
  {
   "cell_type": "code",
   "execution_count": 12,
   "metadata": {
    "id": "6nDjp3YRYN3F"
   },
   "outputs": [],
   "source": [
    "T = .03"
   ]
  },
  {
   "cell_type": "code",
   "execution_count": 13,
   "metadata": {
    "id": "Gd3Ttm490N51"
   },
   "outputs": [],
   "source": [
    "#did not end up using\n",
    "def contig(A):\n",
    "  for a in A: #assuming it is a list of fips\n",
    "    l = list(data['fip']== a)\n",
    "    ind = l.index(True)\n",
    "    neigh = GeorgiaNeighbors[ind][1][0]\n",
    "    flag = False\n",
    "    for b in A:\n",
    "      if b!=a:\n",
    "        if b in neigh:\n",
    "          flag = True\n",
    "    if flag == False:\n",
    "      return flag\n",
    "  return flag"
   ]
  },
  {
   "cell_type": "code",
   "execution_count": 14,
   "metadata": {
    "id": "KdKd72P5YN3I"
   },
   "outputs": [],
   "source": [
    "# MIP program\n",
    "\n",
    "def Bisection(S0,M0,j_star,k_star,d):\n",
    "    #f = S[3]\n",
    "    counties = S0[0]\n",
    "    \n",
    "    p0 = S0[1] #population vector for each county\n",
    "    a = np.floor(M0/2) #smaller set size\n",
    "    if a<1:\n",
    "        a=1\n",
    "    b = np.ceil(np.round(M0,0)/2)\n",
    "    #print(M0)\n",
    "    #print(a,b)\n",
    "    tak = lemma2(a,k_star)[0]\n",
    "    tbjk = lemma2(b,j_star-k_star)[0]\n",
    "    Pa = a/M0 * sum(p0) #really should be the sum of all population...\n",
    "    T = .05\n",
    "    if d == 0:\n",
    "        vd = (S0[2])\n",
    "        Vnot = (S0[3]) #voteshare for other player in S\n",
    "    else:\n",
    "        vd = (S0[3])\n",
    "        Vnot = (S0[2])\n",
    "    j = 0\n",
    "    m = grb.Model('BIS')\n",
    "  #  variables\n",
    "    x = {}\n",
    "      # Creating variables\n",
    "    for j in range(len(p0)):\n",
    "        x[j] = m.addVar(vtype=GRB.BINARY) #(0,1) is county is in set A\n",
    "\n",
    "    J = len(p0)\n",
    "  # Objective function\n",
    "    \n",
    "    m.setObjective(grb.quicksum( -x[i] * x[j] * cij_matrix[counties[i], counties[j]] for i, j in zip(range(J), range(J))) + grb.quicksum( (1-x[i]) * (1-x[j]) * cij_matrix[counties[i], counties[j]] for i, j in zip(range(J), range(J)))) #arbitrary\n",
    "\n",
    "  # Generating constraints\n",
    "    m.addConstr(grb.quicksum(x[j]*p0[j] for j in range(J)) >= (1-T)*Pa )\n",
    "    m.addConstr( grb.quicksum(x[j]*p0[j] for j in range(J)) <= (1+T)*Pa )\n",
    "\n",
    "    \n",
    "    m.addConstr( grb.quicksum(x[j]*vd[j] for j in range(J)) >= (tak/a)*grb.quicksum(x[j]*(vd[j]+Vnot[j]) for j in range(J)))\n",
    "    m.addConstr( grb.quicksum((1-x[j])*vd[j] for j in range(J)) >= (tbjk/b)*grb.quicksum((1-x[j])*(vd[j]+Vnot[j]) for j in range(J)))\n",
    "\n",
    "    #locational constraint to be added\n",
    "    #can feed in fip codes. can get list of fips in A set. \n",
    "    \n",
    "    #m.addConstr( grb.quicksum( x[i] * x[j] * cij_matrix[counties[i], counties[j]] for i, j in zip(range(J), range(J))) >= grb.quicksum(2*x[j] for j in range(J)) -2)\n",
    "    #m.addConstr( grb.quicksum( (1-x[i]) * (1-x[j]) * cij_matrix[counties[i], counties[j]] for i, j in zip(range(J), range(J))) >= 2*(grb.quicksum((1-x[j])) for j in range(J)) -1 )    \n",
    "    #m.addConstr( grb.quicksum( (1-x[i]) * (1-x[i]) * cij_matrix[counties[i], counties[j]] for i, j in zip(range(J), range(J))) >= grb.quicksum(2*(1-x[i]) for j in range(J)) -2)\n",
    "  #m.addConstr( grb.quicksum( cij_matrix[counties[i], counties[j]] for i, j in zip(range(J), range(J))) >= 2*(grb.quicksum(x[j]) for j in range(J)) -1 )\n",
    "  #  m.addConstr( grb.quicksum( cij_matrix[counties[i], counties[j]] for i, j in zip(range(J), range(J))) >= 2*(grb.quicksum((1-x[j])) for j in range(J)) -1 )    \n",
    "\n",
    "    m.setParam( 'OutputFlag', False )\n",
    "    m.optimize()\n",
    "    # Check to see what happened!\n",
    "    #if (m.status != grb.GRB.OPTIMAL):\n",
    "        #print('not optimal')\n",
    "\n",
    "    return m\n"
   ]
  },
  {
   "cell_type": "code",
   "execution_count": 15,
   "metadata": {
    "id": "RgjZ6XcWYN3I"
   },
   "outputs": [],
   "source": [
    "import time\n",
    "a = time.time()\n",
    "def bisect(S0, M0, d):\n",
    "    j_star,k_star= jandkstar (M0,sum(S[1]))\n",
    "    #print(j_star,k_star)\n",
    "    a = time.time()\n",
    "    m0 = Bisection(S0,M0,j_star,k_star,d)\n",
    "    b = time.time()\n",
    "    print('{} seconds for original bisection'.format(b-a))\n",
    "    while m0.status != grb.GRB.OPTIMAL: \n",
    "        print('running again...')\n",
    "        #print(j_star)\n",
    "    #Bisection(S,m,j∗,k∗,d) is infeasible\n",
    "        j_star = j_star - 1\n",
    "        if j_star == -1:\n",
    "          print(\"Infeasible\")\n",
    "          return \"\"\n",
    "    # recompute k*\n",
    "        k_star = lemma2(M0,j_star)[1]\n",
    "        #print(j_star,k_star)\n",
    "        a = time.time()\n",
    "        m0 = Bisection(S0,M0,j_star,k_star,d)\n",
    "        b = time.time()\n",
    "        print('{} seconds to run again'.format(b-a))\n",
    "    #print(j_star)\n",
    "    return Bisection(S0,M0,j_star,k_star,d)"
   ]
  },
  {
   "cell_type": "markdown",
   "metadata": {
    "id": "ohjg3GmAoU5O"
   },
   "source": [
    "## Current version is if the Republican player starts"
   ]
  },
  {
   "cell_type": "code",
   "execution_count": null,
   "metadata": {
    "colab": {
     "base_uri": "https://localhost:8080/"
    },
    "id": "bJFszmqzYN3J",
    "outputId": "d8939a42-1bd8-4fbf-d10a-f104e68728b0"
   },
   "outputs": [],
   "source": [
    "A = bisect(S, 14, 1).X #player 1 starting\n",
    "A = np.array(A)\n",
    "a1 = A\n",
    "b1 = (1-A)\n",
    "A"
   ]
  },
  {
   "cell_type": "code",
   "execution_count": null,
   "metadata": {
    "id": "FnYM2_TuYN3J"
   },
   "outputs": [],
   "source": [
    "a1f = np.array(a1*data.index)\n",
    "#this misses the 0 index\n",
    "\n",
    "if a1[0] == 1:\n",
    "    a1f[0] = 1\n",
    "    a1f = a1f[a1f!=0]\n",
    "    a1f[0] = 0\n",
    "else:\n",
    "    a1f = a1f[a1f!=0]\n",
    "\n",
    "adf = data[data.index.isin(a1f)]\n",
    "adf = adf.reset_index(drop=True)\n",
    "\n",
    "\n",
    "b1f = np.array(b1*data.index)\n",
    "\n",
    "if b1[0] == 1:\n",
    "    b1f[0] = 1\n",
    "    b1f = b1f[b1f!=0]\n",
    "    b1f[0] = 0\n",
    "else:\n",
    "    b1f = b1f[b1f!=0]\n",
    "\n",
    "bdf = data[data.index.isin(b1f)]\n",
    "bdf = bdf.reset_index(drop=True)\n"
   ]
  },
  {
   "cell_type": "code",
   "execution_count": null,
   "metadata": {
    "id": "FL1VVsD3Kn1s"
   },
   "outputs": [],
   "source": [
    "#for visualization later:\n",
    "from urllib.request import urlopen\n",
    "import json\n",
    "with urlopen('https://raw.githubusercontent.com/plotly/datasets/master/geojson-counties-fips.json') as response:\n",
    "    counties = json.load(response)\n",
    "import plotly.express as px"
   ]
  },
  {
   "cell_type": "code",
   "execution_count": null,
   "metadata": {
    "colab": {
     "base_uri": "https://localhost:8080/",
     "height": 542
    },
    "id": "3RXJZcv6KocI",
    "outputId": "8ce16810-ddd3-4e77-eab8-0a9164682f2b"
   },
   "outputs": [],
   "source": [
    "fig = px.choropleth_mapbox(adf, geojson=counties, locations='fip',\n",
    "                           color_continuous_scale=px.colors.sequential.Jet,\n",
    "                           mapbox_style=\"carto-positron\",\n",
    "                           zoom=3, center = {\"lat\": 37.0902, \"lon\": -95.7129},\n",
    "                           opacity=0.5,\n",
    "                           labels={'District':'District'}\n",
    "                          )\n",
    "fig.update_layout(margin={\"r\":0,\"t\":0,\"l\":0,\"b\":0})\n",
    "fig.show()"
   ]
  },
  {
   "cell_type": "code",
   "execution_count": null,
   "metadata": {
    "colab": {
     "base_uri": "https://localhost:8080/",
     "height": 542
    },
    "id": "YOStooRHJwQn",
    "outputId": "84083dde-fd96-47be-b071-7002224e3ac4"
   },
   "outputs": [],
   "source": [
    "fig = px.choropleth_mapbox(bdf, geojson=counties, locations='fip',\n",
    "                           color_continuous_scale=px.colors.sequential.Jet,\n",
    "                           mapbox_style=\"carto-positron\",\n",
    "                           zoom=3, center = {\"lat\": 37.0902, \"lon\": -95.7129},\n",
    "                           opacity=0.5,\n",
    "                           labels={'District':'District'}\n",
    "                          )\n",
    "fig.update_layout(margin={\"r\":0,\"t\":0,\"l\":0,\"b\":0})\n",
    "fig.show()"
   ]
  },
  {
   "cell_type": "code",
   "execution_count": null,
   "metadata": {
    "colab": {
     "base_uri": "https://localhost:8080/"
    },
    "id": "6qW1BZZ3YN3J",
    "outputId": "a636cfb5-069e-487e-d8cc-550e7a114bfa"
   },
   "outputs": [],
   "source": [
    "S1 = []\n",
    "S1.append(adf['county_id'])\n",
    "S1.append(adf['Scaled Population'])\n",
    "S1.append(adf['Dem Seats'])\n",
    "S1.append(adf['Rep Seats'])\n",
    "\n",
    "#M is number of districts for each piece.\n",
    "M1 = sum(S1[1]) + sum(S1[2]) \n",
    "\n",
    "A1 = bisect(S1, 7, 0).X #player 2 bisects both\n",
    "\n",
    "S2 = []\n",
    "S2.append(bdf['county_id'])\n",
    "S2.append(bdf['Scaled Population'])\n",
    "S2.append(bdf['Dem Seats'])\n",
    "S2.append(bdf['Rep Seats'])\n",
    "\n",
    "#M is number of districts for each piece.\n",
    "M2 = sum(S2[1]) + sum(S2[2]) \n",
    "A2 = bisect(S2, 7, 0).X"
   ]
  },
  {
   "cell_type": "code",
   "execution_count": null,
   "metadata": {
    "colab": {
     "base_uri": "https://localhost:8080/"
    },
    "id": "rEVogC1ZYN3K",
    "outputId": "5808ef86-ddaf-4592-fbb9-f64d67111a3d"
   },
   "outputs": [],
   "source": [
    "#side A\n",
    "\n",
    "A1 = np.array(A1)\n",
    "a1 = A1\n",
    "b1 = (1-A1)\n",
    "a1f = np.array(a1*adf.index)\n",
    "\n",
    "if a1[0] == 1:\n",
    "    a1f[0] = 1\n",
    "    a1f = a1f[a1f!=0]\n",
    "    a1f[0] = 0\n",
    "else:\n",
    "    a1f = a1f[a1f!=0]\n",
    "\n",
    "adf2 = adf[adf.index.isin(a1f)]\n",
    "adf2 = adf2.reset_index(drop=True)\n",
    "\n",
    "\n",
    "b1f = np.array(b1*adf.index)\n",
    "\n",
    "if b1[0] == 1:\n",
    "    b1f[0] = 1\n",
    "    b1f = b1f[b1f!=0]\n",
    "    b1f[0] = 0\n",
    "else:\n",
    "    b1f = b1f[b1f!=0]\n",
    "\n",
    "bdf2 = adf[adf.index.isin(b1f)]\n",
    "bdf2 = bdf2.reset_index(drop=True)\n",
    "\n",
    "\n",
    "S1A = []\n",
    "S1A.append(adf2['county_id'])\n",
    "S1A.append(adf2['Scaled Population'])\n",
    "S1A.append(adf2['Dem Seats'])\n",
    "S1A.append(adf2['Rep Seats'])\n",
    "S2A = []\n",
    "S2A.append(bdf2['county_id'])\n",
    "S2A.append(bdf2['Scaled Population'])\n",
    "S2A.append(bdf2['Dem Seats'])\n",
    "S2A.append(bdf2['Rep Seats'])\n",
    "\n",
    "#M is number of districts for each piece.\n",
    "M1A = sum(S1A[1]) + sum(S1A[2]) \n",
    "#M is number of districts for each piece.\n",
    "M2A = sum(S2A[1]) + sum(S2A[2]) \n",
    "print(sum(adf2['Scaled Population']), sum(bdf2['Scaled Population']))\n",
    "\n",
    "#starting third:\n",
    "AA1 = bisect(S1A, 3, 1).X \n",
    "AB1 = bisect(S2A, 4, 0).X \n",
    "\n"
   ]
  },
  {
   "cell_type": "code",
   "execution_count": null,
   "metadata": {
    "colab": {
     "base_uri": "https://localhost:8080/"
    },
    "id": "Jt0uNBR9YN3K",
    "outputId": "6af25201-73be-4683-c4f1-0f88c32e0ee8"
   },
   "outputs": [],
   "source": [
    "#side B\n",
    "A2 = np.array(A2)\n",
    "a1 = A2\n",
    "b1 = (1-A2)\n",
    "a1f = np.array(a1*bdf.index)\n",
    "\n",
    "if a1[0] == 1:\n",
    "    a1f[0] = 1\n",
    "    a1f = a1f[a1f!=0]\n",
    "    a1f[0] = 0\n",
    "else:\n",
    "    a1f = a1f[a1f!=0]\n",
    "\n",
    "adf3 = bdf[bdf.index.isin(a1f)]\n",
    "adf3 = adf3.reset_index(drop=True)\n",
    "\n",
    "\n",
    "b1f = np.array(b1*bdf.index)\n",
    "\n",
    "if b1[0] == 1:\n",
    "    b1f[0] = 1\n",
    "    b1f = b1f[b1f!=0]\n",
    "    b1f[0] = 0\n",
    "else:\n",
    "    b1f = b1f[b1f!=0]\n",
    "\n",
    "bdf3 = bdf[bdf.index.isin(b1f)]\n",
    "bdf3 = bdf3.reset_index(drop=True)\n",
    "\n",
    "\n",
    "S1B = []\n",
    "S1B.append(adf3['county_id'])\n",
    "S1B.append(adf3['Scaled Population'])\n",
    "S1B.append(adf3['Dem Seats'])\n",
    "S1B.append(adf3['Rep Seats'])\n",
    "S2B = []\n",
    "S2B.append(bdf3['county_id'])\n",
    "S2B.append(bdf3['Scaled Population'])\n",
    "S2B.append(bdf3['Dem Seats'])\n",
    "S2B.append(bdf3['Rep Seats'])\n",
    "#M is number of districts for each piece.\n",
    "M1B = sum(S1B[1]) + sum(S1B[2]) \n",
    "#M is number of districts for each piece.\n",
    "M2B = sum(S2B[1]) + sum(S2B[2]) \n",
    "print(sum(adf2['Scaled Population']), sum(bdf2['Scaled Population']))\n",
    "\n",
    "#third level\n",
    "\n",
    "AA2 = bisect(S1B, 3, 1).X \n",
    "AB2 = bisect(S2B, 4, 0).X "
   ]
  },
  {
   "cell_type": "markdown",
   "metadata": {
    "id": "Grotjm2rUttp"
   },
   "source": []
  },
  {
   "cell_type": "code",
   "execution_count": null,
   "metadata": {
    "id": "_AF8fKTFYN3K"
   },
   "outputs": [],
   "source": [
    "checkSum = 0\n"
   ]
  },
  {
   "cell_type": "code",
   "execution_count": null,
   "metadata": {
    "id": "91l_7GbYYN3L"
   },
   "outputs": [],
   "source": [
    "AA1 = np.array(AA1)\n",
    "a1f = np.array(AA1*adf2.index)\n",
    "\n",
    "if AA1[0] == 1:\n",
    "    a1f[0] = 1\n",
    "    a1f = a1f[a1f!=0]\n",
    "    a1f[0] = 0\n",
    "else:\n",
    "    a1f = a1f[a1f!=0]\n",
    "\n",
    "D1 = adf2[adf2.index.isin(a1f)]\n",
    "checkSum+=(sum(D1['Scaled Population']))\n",
    "\n",
    "AA2 = np.array(AA2)\n",
    "a1f = np.array(AA2*adf3.index)\n",
    "\n",
    "if AA2[0] == 1:\n",
    "    a1f[0] = 1\n",
    "    a1f = a1f[a1f!=0]\n",
    "    a1f[0] = 0\n",
    "else:\n",
    "    a1f = a1f[a1f!=0]\n",
    "\n",
    "D2 = adf3[adf3.index.isin(a1f)]\n",
    "\n",
    "checkSum+=(sum(D2['Scaled Population']))\n",
    "\n",
    "#remaining 12 districts come from the 6 leftovers being split\n",
    "#mainly: flipside of AA1 (2), AA2 (2), and AB1(2 and 2), AB2 (2 and 2)"
   ]
  },
  {
   "cell_type": "markdown",
   "metadata": {
    "id": "Zg4gTZxwYN3L"
   },
   "source": [
    "### at this point, we need to make 6 splits. "
   ]
  },
  {
   "cell_type": "code",
   "execution_count": null,
   "metadata": {
    "colab": {
     "base_uri": "https://localhost:8080/"
    },
    "id": "wwFkeA7tYN3L",
    "outputId": "16f46700-4234-4c88-9ea4-5f8b7e1c79e5"
   },
   "outputs": [],
   "source": [
    "#D3 and 4:\n",
    "#flipside of AA1:\n",
    "d3 = 1-AA1\n",
    "#split\n",
    "\n",
    "a1f = np.array(d3*adf2.index)\n",
    "\n",
    "if d3[0] == 1:\n",
    "    a1f[0] = 1\n",
    "    a1f = a1f[a1f!=0]\n",
    "    a1f[0] = 0\n",
    "else:\n",
    "    a1f = a1f[a1f!=0]\n",
    "\n",
    "\n",
    "adf4 = adf2[adf2.index.isin(a1f)]\n",
    "adf4 = adf4.reset_index(drop=True)\n",
    "\n",
    "\n",
    "S1A = []\n",
    "S1A.append(adf4['county_id'])\n",
    "S1A.append(adf4['Scaled Population'])\n",
    "S1A.append(adf4['Dem Seats'])\n",
    "S1A.append(adf4['Rep Seats'])\n",
    "\n",
    "M1A = sum(S1A[1]) + sum(S1A[2]) \n",
    "\n",
    "#starting third:\n",
    "s3 = bisect(S1A, 2, 1).X \n",
    "s3 = np.array(s3)\n",
    "s4 = 1-s3\n",
    "\n",
    "a1f = np.array(s3*adf4.index)\n",
    "\n",
    "if s3[0] == 1:\n",
    "    a1f[0] = 1\n",
    "    a1f = a1f[a1f!=0]\n",
    "    a1f[0] = 0\n",
    "else:\n",
    "    a1f = a1f[a1f!=0]\n",
    "\n",
    "D3 = adf4[adf4.index.isin(a1f)]\n",
    "checkSum+=(sum(D3['Scaled Population']))\n",
    "\n",
    "a1f = np.array(s4*adf4.index)\n",
    "\n",
    "if s4[0] == 1:\n",
    "    a1f[0] = 1\n",
    "    a1f = a1f[a1f!=0]\n",
    "    a1f[0] = 0\n",
    "else:\n",
    "    a1f = a1f[a1f!=0]\n",
    "\n",
    "D4 = adf4[adf4.index.isin(a1f)]\n",
    "\n",
    "checkSum+=(sum(D4['Scaled Population']))\n"
   ]
  },
  {
   "cell_type": "code",
   "execution_count": null,
   "metadata": {
    "colab": {
     "base_uri": "https://localhost:8080/"
    },
    "id": "n9Q8NBEyYN3L",
    "outputId": "6a57d913-ff7a-4a3d-8389-5286308aa36e"
   },
   "outputs": [],
   "source": [
    "#D5 and 6:\n",
    "#flipside of AA2:\n",
    "d5 = 1-np.array(AA2)\n",
    "#split\n",
    "\n",
    "a1f = np.array(d5*adf3.index)\n",
    "\n",
    "if d5[0] == 1:\n",
    "    a1f[0] = 1\n",
    "    a1f = a1f[a1f!=0]\n",
    "    a1f[0] = 0\n",
    "else:\n",
    "    a1f = a1f[a1f!=0]\n",
    "\n",
    "adf5 = adf3[adf3.index.isin(a1f)]\n",
    "adf5 = adf5.reset_index(drop=True)\n",
    "\n",
    "\n",
    "S1A = []\n",
    "S1A.append(adf5['county_id'])\n",
    "S1A.append(adf5['Scaled Population'])\n",
    "S1A.append(adf5['Dem Seats'])\n",
    "S1A.append(adf5['Rep Seats'])\n",
    "\n",
    "M1A = sum(S1A[1]) + sum(S1A[2]) \n",
    "\n",
    "#starting third:\n",
    "s5 = bisect(S1A, 2, 0).X \n",
    "s5 = np.array(s5)\n",
    "s6 = 1-s5\n",
    "\n",
    "a1f = np.array(s5*adf5.index)\n",
    "\n",
    "if s5[0] == 1:\n",
    "    a1f[0] = 1\n",
    "    a1f = a1f[a1f!=0]\n",
    "    a1f[0] = 0\n",
    "else:\n",
    "    a1f = a1f[a1f!=0]\n",
    "\n",
    "D5 = adf5[adf5.index.isin(a1f)]\n",
    "checkSum+=(sum(D5['Scaled Population']))\n",
    "\n",
    "a1f = np.array(s6*adf5.index)\n",
    "\n",
    "if s6[0] == 1:\n",
    "    a1f[0] = 1\n",
    "    a1f = a1f[a1f!=0]\n",
    "    a1f[0] = 0\n",
    "else:\n",
    "    a1f = a1f[a1f!=0]\n",
    "\n",
    "D6 = adf5[adf5.index.isin(a1f)]\n",
    "\n",
    "checkSum+=(sum(D6['Scaled Population']))\n"
   ]
  },
  {
   "cell_type": "code",
   "execution_count": null,
   "metadata": {
    "colab": {
     "base_uri": "https://localhost:8080/"
    },
    "id": "DQAarmnsYN3M",
    "outputId": "01acd4fb-e7b9-41cc-8942-6ef6ee18f412"
   },
   "outputs": [],
   "source": [
    "#D7 and 8:\n",
    "#flipside of AB1[1]:\n",
    "AB1 = np.array(AB1)\n",
    "d78 = AB1\n",
    "d910 = 1 - AB1\n",
    "#split\n",
    "\n",
    "a1f = np.array(d78*bdf2.index)\n",
    "\n",
    "if d78[0] == 1:\n",
    "    a1f[0] = 1\n",
    "    a1f = a1f[a1f!=0]\n",
    "    a1f[0] = 0\n",
    "else:\n",
    "    a1f = a1f[a1f!=0]\n",
    "\n",
    "adf6 = bdf2[bdf2.index.isin(a1f)]\n",
    "adf6 = adf6.reset_index(drop=True)\n",
    "\n",
    "\n",
    "S1A = []\n",
    "S1A.append(adf6['county_id'])\n",
    "S1A.append(adf6['Scaled Population'])\n",
    "S1A.append(adf6['Dem Seats'])\n",
    "S1A.append(adf6['Rep Seats'])\n",
    "\n",
    "M1A = sum(S1A[1]) + sum(S1A[2])\n",
    "\n",
    "a1f = np.array(d910*bdf2.index)\n",
    "\n",
    "if d910[0] == 1:\n",
    "    a1f[0] = 1\n",
    "    a1f = a1f[a1f!=0]\n",
    "    a1f[0] = 0\n",
    "else:\n",
    "    a1f = a1f[a1f!=0]\n",
    "\n",
    "adf7 = bdf2[bdf2.index.isin(a1f)]\n",
    "adf7 = adf7.reset_index(drop=True)\n",
    "\n",
    "\n",
    "S2A = []\n",
    "S2A.append(adf7['county_id'])\n",
    "S2A.append(adf7['Scaled Population'])\n",
    "S2A.append(adf7['Dem Seats'])\n",
    "S2A.append(adf7['Rep Seats'])\n",
    "\n",
    "M2A = sum(S2A[1]) + sum(S2A[2])\n",
    "\n",
    "s7 = bisect(S1A, 2, 1).X \n",
    "s7 = np.array(s7)\n",
    "s8 = 1 - s7\n",
    "\n",
    "s9 = bisect(S2A, 2, 0).X \n",
    "s9 = np.array(s9)\n",
    "s10 = 1-s9\n",
    "\n",
    "\n",
    "#extract\n",
    "a1f = np.array(s7*adf6.index)\n",
    "\n",
    "if s7[0] == 1:\n",
    "    a1f[0] = 1\n",
    "    a1f = a1f[a1f!=0]\n",
    "    a1f[0] = 0\n",
    "else:\n",
    "    a1f = a1f[a1f!=0]\n",
    "\n",
    "D7 = adf6[adf6.index.isin(a1f)]\n",
    "checkSum+=(sum(D7['Scaled Population']))\n",
    "\n",
    "a1f = np.array(s8*adf6.index)\n",
    "\n",
    "if s8[0] == 1:\n",
    "    a1f[0] = 1\n",
    "    a1f = a1f[a1f!=0]\n",
    "    a1f[0] = 0\n",
    "else:\n",
    "    a1f = a1f[a1f!=0]\n",
    "\n",
    "D8 = adf6[adf6.index.isin(a1f)]\n",
    "checkSum+=(sum(D8['Scaled Population']))\n",
    "\n",
    "a1f = np.array(s9*adf7.index)\n",
    "\n",
    "if s9[0] == 1:\n",
    "    a1f[0] = 1\n",
    "    a1f = a1f[a1f!=0]\n",
    "    a1f[0] = 0\n",
    "else:\n",
    "    a1f = a1f[a1f!=0]\n",
    "\n",
    "D9 = adf7[adf7.index.isin(a1f)]\n",
    "checkSum+=(sum(D9['Scaled Population']))\n",
    "\n",
    "a1f = np.array(s10*adf7.index)\n",
    "\n",
    "if s10[0] == 1:\n",
    "    a1f[0] = 1\n",
    "    a1f = a1f[a1f!=0]\n",
    "    a1f[0] = 0\n",
    "else:\n",
    "    a1f = a1f[a1f!=0]\n",
    "\n",
    "D10 = adf7[adf7.index.isin(a1f)]\n",
    "checkSum+=(sum(D10['Scaled Population']))"
   ]
  },
  {
   "cell_type": "code",
   "execution_count": null,
   "metadata": {
    "colab": {
     "base_uri": "https://localhost:8080/"
    },
    "id": "GiZ1ODGaYN3M",
    "outputId": "13ecd9d6-9645-41c5-cf7a-01f4f2c9dd3e"
   },
   "outputs": [],
   "source": [
    "#D11 and 12:\n",
    "#flipside of AB2[1]:\n",
    "\n",
    "AB2 = np.array(AB2)\n",
    "d1112 = AB2\n",
    "d1314 = 1 - AB2\n",
    "#split\n",
    "\n",
    "a1f = np.array(d1112*bdf3.index)\n",
    "\n",
    "if d1112[0] == 1:\n",
    "    a1f[0] = 1\n",
    "    a1f = a1f[a1f!=0]\n",
    "    a1f[0] = 0\n",
    "else:\n",
    "    a1f = a1f[a1f!=0]\n",
    "\n",
    "adf8 = bdf3[bdf3.index.isin(a1f)]\n",
    "adf8 = adf8.reset_index(drop=True)\n",
    "\n",
    "\n",
    "S1A = []\n",
    "S1A.append(adf8['county_id'])\n",
    "S1A.append(adf8['Scaled Population'])\n",
    "S1A.append(adf8['Dem Seats'])\n",
    "S1A.append(adf8['Rep Seats'])\n",
    "\n",
    "M1A = sum(S1A[1]) + sum(S1A[2])\n",
    "\n",
    "a1f = np.array(d1314*bdf3.index)\n",
    "\n",
    "if d1314[0] == 1:\n",
    "    a1f[0] = 1\n",
    "    a1f = a1f[a1f!=0]\n",
    "    a1f[0] = 0\n",
    "else:\n",
    "    a1f = a1f[a1f!=0]\n",
    "\n",
    "adf9 = bdf3[bdf3.index.isin(a1f)]\n",
    "adf9 = adf9.reset_index(drop=True)\n",
    "\n",
    "\n",
    "S2A = []\n",
    "S2A.append(adf9['county_id'])\n",
    "S2A.append(adf9['Scaled Population'])\n",
    "S2A.append(adf9['Dem Seats'])\n",
    "S2A.append(adf9['Rep Seats'])\n",
    "\n",
    "M2A = sum(S2A[1]) + sum(S2A[2])\n",
    "\n",
    "s11 = bisect(S1A, 2, 1).X \n",
    "s11 = np.array(s11)\n",
    "s12 = 1 - s11\n",
    "\n",
    "s13 = bisect(S2A, 2, 0).X\n",
    "s13 = np.array(s13)\n",
    "s14 = 1-s13\n",
    "\n",
    "\n",
    "#extract\n",
    "a1f = np.array(s11*adf8.index)\n",
    "\n",
    "if s11[0] == 1:\n",
    "    a1f[0] = 1\n",
    "    a1f = a1f[a1f!=0]\n",
    "    a1f[0] = 0\n",
    "else:\n",
    "    a1f = a1f[a1f!=0]\n",
    "    \n",
    "D11 = adf8[adf8.index.isin(a1f)]\n",
    "checkSum+=(sum(D11['Scaled Population']))\n",
    "\n",
    "a1f = np.array(s12*adf8.index)\n",
    "\n",
    "if s12[0] == 1:\n",
    "    a1f[0] = 1\n",
    "    a1f = a1f[a1f!=0]\n",
    "    a1f[0] = 0\n",
    "else:\n",
    "    a1f = a1f[a1f!=0]\n",
    "\n",
    "D12 = adf8[adf8.index.isin(a1f)]\n",
    "checkSum+=(sum(D12['Scaled Population']))\n",
    "\n",
    "a1f = np.array(s13*adf9.index)\n",
    "\n",
    "if s13[0] == 1:\n",
    "    a1f[0] = 1\n",
    "    a1f = a1f[a1f!=0]\n",
    "    a1f[0] = 0\n",
    "else:\n",
    "    a1f = a1f[a1f!=0]\n",
    "\n",
    "D13 = adf9[adf9.index.isin(a1f)]\n",
    "checkSum+=(sum(D9['Scaled Population']))\n",
    "\n",
    "a1f = np.array(s14*adf9.index)\n",
    "\n",
    "if s14[0] == 1:\n",
    "    a1f[0] = 1\n",
    "    a1f = a1f[a1f!=0]\n",
    "    a1f[0] = 0\n",
    "else:\n",
    "    a1f = a1f[a1f!=0]\n",
    "\n",
    "D14 = adf9[adf9.index.isin(a1f)]\n",
    "checkSum+=(sum(D14['Scaled Population']))\n"
   ]
  },
  {
   "cell_type": "code",
   "execution_count": null,
   "metadata": {
    "id": "Oi76pn8tYN3N"
   },
   "outputs": [],
   "source": [
    "popsS = []\n",
    "pops = []\n",
    "votpops = []\n",
    "rvotes = []\n",
    "dvotes = []\n",
    "\n",
    "D = [D1,D2,D3,D4,D5,D6,D7,D8,D9,D10,D11,D12,D13,D14]\n",
    "for d in D:\n",
    "    popsS.append(sum(d['Scaled Population']))\n",
    "    pops.append(sum(d['Population']))\n",
    "    votpops.append(sum(d['Total Votes']))\n",
    "    rvotes.append(sum(d['Republican Votes']))\n",
    "    dvotes.append(sum(d['Democratic Votes']))\n",
    "    \n",
    "popsS = np.array(popsS)\n",
    "pops = np.array(pops)\n",
    "votpops = np.array(votpops)"
   ]
  },
  {
   "cell_type": "code",
   "execution_count": null,
   "metadata": {
    "colab": {
     "base_uri": "https://localhost:8080/"
    },
    "id": "ZNG07shOYN3N",
    "outputId": "3202f03f-dc31-4a36-a7d1-7a15c9585ba0"
   },
   "outputs": [],
   "source": [
    "np.std(votpops) #New spread"
   ]
  },
  {
   "cell_type": "code",
   "execution_count": null,
   "metadata": {
    "colab": {
     "base_uri": "https://localhost:8080/"
    },
    "id": "Iff-S0TnDE8M",
    "outputId": "0ac832ed-2eff-4b16-8dc8-0c1b15ee4e57"
   },
   "outputs": [],
   "source": [
    "np.std(votpops/popsS) #New spread"
   ]
  },
  {
   "cell_type": "code",
   "execution_count": null,
   "metadata": {
    "colab": {
     "base_uri": "https://localhost:8080/"
    },
    "id": "3B-yEIodYN3O",
    "outputId": "9dd8a411-5624-4a7b-e8d3-69e7f4d85f42"
   },
   "outputs": [],
   "source": [
    "#comparative spread?\n",
    "datafile = '/content/drive/My Drive/AI, Games, Markets Project/CurrentDistrictsVoteShares2020.csv'\n",
    "data2 = pd.read_csv(datafile)\n",
    "\n",
    "np.std(data2['Total Votes']) #old spread"
   ]
  },
  {
   "cell_type": "code",
   "execution_count": null,
   "metadata": {
    "id": "FbVwPlcyYN3O"
   },
   "outputs": [],
   "source": [
    "dff = []\n",
    "dis = np.array([])\n",
    "i = 1\n",
    "for d in D:\n",
    "  #print(d['fip'])\n",
    "  fipcodesd = np.array(d['fip'])\n",
    "  dff = np.append(dff,fipcodesd)\n",
    "  disd = np.ones(len(fipcodesd))*i\n",
    "  dis = np.append(dis,disd)\n",
    "  i+=1\n",
    "df = pd.DataFrame()\n",
    "df['fips'] = dff\n",
    "df['District'] = 15 - dis #swapping the district numbers around to have the color scale flipped\n",
    "df['fips'] = df['fips'].map(int)\n",
    "df['fips'] = df['fips'].map(str)\n",
    "df['District'] = df['District'].map(int)\n",
    "#df"
   ]
  },
  {
   "cell_type": "markdown",
   "metadata": {
    "id": "XHInKCuarUIQ"
   },
   "source": [
    "### Final Visualization"
   ]
  },
  {
   "cell_type": "code",
   "execution_count": null,
   "metadata": {
    "colab": {
     "base_uri": "https://localhost:8080/",
     "height": 542
    },
    "id": "aQ90rJsRaaKZ",
    "outputId": "93ba2829-b3b2-4e65-ed3b-55c136c8238e"
   },
   "outputs": [],
   "source": [
    "\n",
    "fig = px.choropleth_mapbox(df, geojson=counties, locations='fips', color='District',\n",
    "                           color_continuous_scale=px.colors.sequential.Jet,\n",
    "                           mapbox_style=\"carto-positron\",\n",
    "                           zoom=3, center = {\"lat\": 37.0902, \"lon\": -95.7129},\n",
    "                           opacity=0.5,\n",
    "                           labels={'District':'District'}\n",
    "                          )\n",
    "fig.update_layout(margin={\"r\":0,\"t\":0,\"l\":0,\"b\":0})\n",
    "fig.show()"
   ]
  },
  {
   "cell_type": "markdown",
   "metadata": {
    "id": "t9nyV6gH98a2"
   },
   "source": [
    "# Making map for each district"
   ]
  },
  {
   "cell_type": "code",
   "execution_count": null,
   "metadata": {
    "colab": {
     "base_uri": "https://localhost:8080/",
     "height": 542
    },
    "id": "oRa4_LJy961D",
    "outputId": "401989c2-6e1e-4c3f-ac25-96d0f466bd6e"
   },
   "outputs": [],
   "source": [
    "fig = px.choropleth_mapbox(df[df['District']==1], geojson=counties, locations='fips',\n",
    "                           mapbox_style=\"carto-positron\",\n",
    "                           zoom=3, center = {\"lat\": 37.0902, \"lon\": -95.7129},\n",
    "                           opacity=0.5,\n",
    "                           labels={'District':'District'}\n",
    "                          )\n",
    "fig.update_layout(margin={\"r\":0,\"t\":0,\"l\":0,\"b\":0})\n",
    "fig.show()"
   ]
  },
  {
   "cell_type": "code",
   "execution_count": null,
   "metadata": {
    "colab": {
     "base_uri": "https://localhost:8080/",
     "height": 542
    },
    "id": "d5lD67UsaaOL",
    "outputId": "c9129be8-f3b3-433b-a133-5c1c0a504a15"
   },
   "outputs": [],
   "source": [
    "fig = px.choropleth_mapbox(df[df['District']==2], geojson=counties, locations='fips',\n",
    "                           mapbox_style=\"carto-positron\",\n",
    "                           zoom=3, center = {\"lat\": 37.0902, \"lon\": -95.7129},\n",
    "                           opacity=0.5,\n",
    "                           labels={'District':'District'}\n",
    "                          )\n",
    "fig.update_layout(margin={\"r\":0,\"t\":0,\"l\":0,\"b\":0})\n",
    "fig.show()"
   ]
  },
  {
   "cell_type": "code",
   "execution_count": null,
   "metadata": {
    "colab": {
     "base_uri": "https://localhost:8080/",
     "height": 542
    },
    "id": "IJiZdBiGYN3P",
    "outputId": "f0e5b99f-83c7-444c-88c5-faf9600e6e36"
   },
   "outputs": [],
   "source": [
    "fig = px.choropleth_mapbox(df[df['District']==3], geojson=counties, locations='fips',\n",
    "                           mapbox_style=\"carto-positron\",\n",
    "                           zoom=3, center = {\"lat\": 37.0902, \"lon\": -95.7129},\n",
    "                           opacity=0.5,\n",
    "                           labels={'District':'District'}\n",
    "                          )\n",
    "fig.update_layout(margin={\"r\":0,\"t\":0,\"l\":0,\"b\":0})\n",
    "fig.show()"
   ]
  },
  {
   "cell_type": "code",
   "execution_count": null,
   "metadata": {
    "colab": {
     "base_uri": "https://localhost:8080/",
     "height": 542
    },
    "id": "4xeLw4hT9_uB",
    "outputId": "85e9a9c4-1117-4bb8-d1ee-db2c0d6679e6"
   },
   "outputs": [],
   "source": [
    "fig = px.choropleth_mapbox(df[df['District']==4], geojson=counties, locations='fips',\n",
    "                           mapbox_style=\"carto-positron\",\n",
    "                           zoom=3, center = {\"lat\": 37.0902, \"lon\": -95.7129},\n",
    "                           opacity=0.5,\n",
    "                           labels={'District':'District'}\n",
    "                          )\n",
    "fig.update_layout(margin={\"r\":0,\"t\":0,\"l\":0,\"b\":0})\n",
    "fig.show()"
   ]
  },
  {
   "cell_type": "code",
   "execution_count": null,
   "metadata": {
    "colab": {
     "base_uri": "https://localhost:8080/",
     "height": 542
    },
    "id": "zJRbDSnh9_wg",
    "outputId": "051150c9-b227-4c49-edc6-163ee7b200ca"
   },
   "outputs": [],
   "source": [
    "fig = px.choropleth_mapbox(df[df['District']==5], geojson=counties, locations='fips',\n",
    "                           mapbox_style=\"carto-positron\",\n",
    "                           zoom=3, center = {\"lat\": 37.0902, \"lon\": -95.7129},\n",
    "                           opacity=0.5,\n",
    "                           labels={'District':'District'}\n",
    "                          )\n",
    "fig.update_layout(margin={\"r\":0,\"t\":0,\"l\":0,\"b\":0})\n",
    "fig.show()"
   ]
  },
  {
   "cell_type": "code",
   "execution_count": null,
   "metadata": {
    "colab": {
     "base_uri": "https://localhost:8080/",
     "height": 542
    },
    "id": "fBnxWshq9_zc",
    "outputId": "ec30856e-82fb-4846-e508-2cf26533bd86"
   },
   "outputs": [],
   "source": [
    "fig = px.choropleth_mapbox(df[df['District']==6], geojson=counties, locations='fips',\n",
    "                           mapbox_style=\"carto-positron\",\n",
    "                           zoom=3, center = {\"lat\": 37.0902, \"lon\": -95.7129},\n",
    "                           opacity=0.5,\n",
    "                           labels={'District':'District'}\n",
    "                          )\n",
    "fig.update_layout(margin={\"r\":0,\"t\":0,\"l\":0,\"b\":0})\n",
    "fig.show()"
   ]
  },
  {
   "cell_type": "code",
   "execution_count": null,
   "metadata": {
    "colab": {
     "base_uri": "https://localhost:8080/",
     "height": 542
    },
    "id": "2Y-9ccGF9_1_",
    "outputId": "4c0847bc-5131-4f9c-b96c-d85553cc2a7b"
   },
   "outputs": [],
   "source": [
    "fig = px.choropleth_mapbox(df[df['District']==7], geojson=counties, locations='fips',\n",
    "                           mapbox_style=\"carto-positron\",\n",
    "                           zoom=3, center = {\"lat\": 37.0902, \"lon\": -95.7129},\n",
    "                           opacity=0.5,\n",
    "                           labels={'District':'District'}\n",
    "                          )\n",
    "fig.update_layout(margin={\"r\":0,\"t\":0,\"l\":0,\"b\":0})\n",
    "fig.show()"
   ]
  },
  {
   "cell_type": "code",
   "execution_count": null,
   "metadata": {
    "colab": {
     "base_uri": "https://localhost:8080/",
     "height": 542
    },
    "id": "_J77VJHv-FAn",
    "outputId": "7cb768b5-4e2d-4410-8f75-7f48d2c126c4"
   },
   "outputs": [],
   "source": [
    "fig = px.choropleth_mapbox(df[df['District']==8], geojson=counties, locations='fips',\n",
    "                           mapbox_style=\"carto-positron\",\n",
    "                           zoom=3, center = {\"lat\": 37.0902, \"lon\": -95.7129},\n",
    "                           opacity=0.5,\n",
    "                           labels={'District':'District'}\n",
    "                          )\n",
    "fig.update_layout(margin={\"r\":0,\"t\":0,\"l\":0,\"b\":0})\n",
    "fig.show()"
   ]
  },
  {
   "cell_type": "code",
   "execution_count": null,
   "metadata": {
    "colab": {
     "base_uri": "https://localhost:8080/",
     "height": 542
    },
    "id": "hCFWT7xi-FDi",
    "outputId": "e1fc1130-cd5d-486e-ad09-2860fdadf543"
   },
   "outputs": [],
   "source": [
    "fig = px.choropleth_mapbox(df[df['District']==9], geojson=counties, locations='fips',\n",
    "                           mapbox_style=\"carto-positron\",\n",
    "                           zoom=3, center = {\"lat\": 37.0902, \"lon\": -95.7129},\n",
    "                           opacity=0.5,\n",
    "                           labels={'District':'District'}\n",
    "                          )\n",
    "fig.update_layout(margin={\"r\":0,\"t\":0,\"l\":0,\"b\":0})\n",
    "fig.show()"
   ]
  },
  {
   "cell_type": "code",
   "execution_count": null,
   "metadata": {
    "colab": {
     "base_uri": "https://localhost:8080/",
     "height": 542
    },
    "id": "RwbYx8uB-FFq",
    "outputId": "68fd30c8-8860-4177-ba28-77be60a08420"
   },
   "outputs": [],
   "source": [
    "fig = px.choropleth_mapbox(df[df['District']==10], geojson=counties, locations='fips',\n",
    "                           mapbox_style=\"carto-positron\",\n",
    "                           zoom=3, center = {\"lat\": 37.0902, \"lon\": -95.7129},\n",
    "                           opacity=0.5,\n",
    "                           labels={'District':'District'}\n",
    "                          )\n",
    "fig.update_layout(margin={\"r\":0,\"t\":0,\"l\":0,\"b\":0})\n",
    "fig.show()"
   ]
  },
  {
   "cell_type": "code",
   "execution_count": null,
   "metadata": {
    "colab": {
     "base_uri": "https://localhost:8080/",
     "height": 542
    },
    "id": "vNM9d0SQ-FH8",
    "outputId": "615d626b-90bb-48a4-a604-19ffc1ee9046"
   },
   "outputs": [],
   "source": [
    "fig = px.choropleth_mapbox(df[df['District']==11], geojson=counties, locations='fips',\n",
    "                           mapbox_style=\"carto-positron\",\n",
    "                           zoom=3, center = {\"lat\": 37.0902, \"lon\": -95.7129},\n",
    "                           opacity=0.5,\n",
    "                           labels={'District':'District'}\n",
    "                          )\n",
    "fig.update_layout(margin={\"r\":0,\"t\":0,\"l\":0,\"b\":0})\n",
    "fig.show()"
   ]
  },
  {
   "cell_type": "code",
   "execution_count": null,
   "metadata": {
    "colab": {
     "base_uri": "https://localhost:8080/",
     "height": 542
    },
    "id": "mPEvQ-8X-FKK",
    "outputId": "64659a74-f7ee-490b-8fde-096e7e1c0b69"
   },
   "outputs": [],
   "source": [
    "fig = px.choropleth_mapbox(df[df['District']==12], geojson=counties, locations='fips',\n",
    "                           mapbox_style=\"carto-positron\",\n",
    "                           zoom=3, center = {\"lat\": 37.0902, \"lon\": -95.7129},\n",
    "                           opacity=0.5,\n",
    "                           labels={'District':'District'}\n",
    "                          )\n",
    "fig.update_layout(margin={\"r\":0,\"t\":0,\"l\":0,\"b\":0})\n",
    "fig.show()"
   ]
  },
  {
   "cell_type": "code",
   "execution_count": null,
   "metadata": {
    "colab": {
     "base_uri": "https://localhost:8080/",
     "height": 542
    },
    "id": "Fil9WNnG-KTk",
    "outputId": "a4017660-e03e-4a8a-b3bf-09a1d6986408"
   },
   "outputs": [],
   "source": [
    "fig = px.choropleth_mapbox(df[df['District']==13], geojson=counties, locations='fips',\n",
    "                           mapbox_style=\"carto-positron\",\n",
    "                           zoom=3, center = {\"lat\": 37.0902, \"lon\": -95.7129},\n",
    "                           opacity=0.5,\n",
    "                           labels={'District':'District'}\n",
    "                          )\n",
    "fig.update_layout(margin={\"r\":0,\"t\":0,\"l\":0,\"b\":0})\n",
    "fig.show()"
   ]
  },
  {
   "cell_type": "code",
   "execution_count": null,
   "metadata": {
    "colab": {
     "base_uri": "https://localhost:8080/",
     "height": 542
    },
    "id": "5WOsHQex-KWO",
    "outputId": "134fd02e-6224-4cb1-b373-d0b0b634f608"
   },
   "outputs": [],
   "source": [
    "fig = px.choropleth_mapbox(df[df['District']==14], geojson=counties, locations='fips',\n",
    "                           mapbox_style=\"carto-positron\",\n",
    "                           zoom=3, center = {\"lat\": 37.0902, \"lon\": -95.7129},\n",
    "                           opacity=0.5,\n",
    "                           labels={'District':'District'}\n",
    "                          )\n",
    "fig.update_layout(margin={\"r\":0,\"t\":0,\"l\":0,\"b\":0})\n",
    "fig.show()"
   ]
  }
 ],
 "metadata": {
  "colab": {
   "collapsed_sections": [],
   "name": "Colab_v_Final_BisectionProtocoUpdate.ipynb",
   "provenance": []
  },
  "kernelspec": {
   "display_name": "Python 3 (ipykernel)",
   "language": "python",
   "name": "python3"
  },
  "language_info": {
   "codemirror_mode": {
    "name": "ipython",
    "version": 3
   },
   "file_extension": ".py",
   "mimetype": "text/x-python",
   "name": "python",
   "nbconvert_exporter": "python",
   "pygments_lexer": "ipython3",
   "version": "3.8.0"
  }
 },
 "nbformat": 4,
 "nbformat_minor": 1
}
